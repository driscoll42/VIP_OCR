{
 "cells": [
  {
   "cell_type": "code",
   "metadata": {
    "collapsed": true
   },
   "source": [
    "import cv2\n",
    "import easyocr\n",
    "from pdf2image import convert_from_path\n",
    "import os\n",
    "import pandas as pd\n",
    "import time"
   ],
   "outputs": [],
   "execution_count": null
  },
  {
   "cell_type": "code",
   "source": [
    "ocr_df = pd.read_excel('ocr_df.xlsx', index_col=0)\n",
    "ocr_df['easy_ocr'] = ''"
   ],
   "metadata": {
    "collapsed": false
   },
   "outputs": [],
   "execution_count": null
  },
  {
   "cell_type": "code",
   "source": [
    "image_convert_time = 0\n",
    "ocr_time = 0\n",
    "images_converted = 0\n",
    "reader = easyocr.Reader(['en'], gpu=True)  # load once only in memory.\n",
    "\n",
    "for index, row in ocr_df.iterrows():\n",
    "    print(index)\n",
    "    directory = 'test_files'\n",
    "    scratch_dir = 'scratch_dir'\n",
    "    for filename in os.listdir(scratch_dir):\n",
    "        f = os.path.join(scratch_dir, filename)\n",
    "        os.remove(f)\n",
    "\n",
    "    pdf_text = ''\n",
    "    image_convert_start_time = time.time()\n",
    "    images = convert_from_path(f'''{directory}/{row['item_filename']}.pdf''')\n",
    "    for i in range(len(images)):\n",
    "        images[i].save(f'{scratch_dir}\\page{str(i)}.png', 'PNG')\n",
    "        images_converted += 1\n",
    "    image_convert_end_time = time.time()\n",
    "    image_convert_time += (image_convert_end_time - image_convert_start_time)\n",
    "\n",
    "    ocr_start_time = time.time()\n",
    "    for i in range(len(images)):\n",
    "\n",
    "\n",
    "        image = cv2.imread(f'{scratch_dir}\\page{str(i)}.png')\n",
    "        ocr_text = reader.readtext(image, detail=0)\n",
    "        ocr_text = ' '.join(ocr_text)\n",
    "        pdf_text = pdf_text + ocr_text\n",
    "    ocr_end_time = time.time()\n",
    "    ocr_time += (ocr_end_time - ocr_start_time)\n",
    "\n",
    "    ocr_df.at[index, 'easy_ocr'] = pdf_text"
   ],
   "metadata": {
    "collapsed": false
   },
   "outputs": [],
   "execution_count": null
  },
  {
   "cell_type": "code",
   "source": [
    "print(f'Total time to convert images: {image_convert_time}')\n",
    "print(f'Total time to OCR: {ocr_time}')\n",
    "print(f'Total images converted: {images_converted}')"
   ],
   "metadata": {
    "collapsed": false
   },
   "outputs": [],
   "execution_count": null
  },
  {
   "cell_type": "code",
   "source": [
    "ocr_df.to_excel('ocr_df_2023_retests.xlsx')"
   ],
   "metadata": {
    "collapsed": false
   },
   "outputs": [],
   "execution_count": null
  },
  {
   "cell_type": "code",
   "source": [],
   "metadata": {
    "collapsed": false
   },
   "outputs": [],
   "execution_count": null
  }
 ],
 "metadata": {
  "kernelspec": {
   "display_name": "Python 3",
   "language": "python",
   "name": "python3"
  },
  "language_info": {
   "codemirror_mode": {
    "name": "ipython",
    "version": 2
   },
   "file_extension": ".py",
   "mimetype": "text/x-python",
   "name": "python",
   "nbconvert_exporter": "python",
   "pygments_lexer": "ipython2",
   "version": "2.7.6"
  }
 },
 "nbformat": 4,
 "nbformat_minor": 0
}
