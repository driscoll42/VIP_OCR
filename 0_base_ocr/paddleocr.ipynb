{
 "cells": [
  {
   "cell_type": "code",
   "metadata": {
    "collapsed": true
   },
   "source": [
    "from pdf2image import convert_from_path\n",
    "import os\n",
    "import pandas as pd\n",
    "# import paddle # mostly as a reminder to install paddlepaddle and paddlepaddle-gpu\n",
    "from paddleocr import PaddleOCR"
   ],
   "outputs": [],
   "execution_count": null
  },
  {
   "cell_type": "code",
   "source": [
    "ocr_df = pd.read_excel('ocr_df.xlsx', index_col=0)\n",
    "ocr_df['paddleocr'] = ''\n",
    "# ocr_df"
   ],
   "metadata": {
    "collapsed": false
   },
   "outputs": [],
   "execution_count": null
  },
  {
   "cell_type": "code",
   "source": [
    "ocr = PaddleOCR(use_angle_cls=True, lang='en') # need to run only once to download and load model into memory\n",
    "\n",
    "for index, row in ocr_df.iterrows():\n",
    "    print(index)\n",
    "    directory = 'test_files'\n",
    "    scratch_dir = 'scratch_dir'\n",
    "    for filename in os.listdir(scratch_dir):\n",
    "        f = os.path.join(scratch_dir, filename)\n",
    "        os.remove(f)\n",
    "\n",
    "    pdf_text = ''\n",
    "    images = convert_from_path(f'''{directory}/{row['item_filename']}.pdf''')\n",
    "    for i in range(len(images)):\n",
    "        images[i].save(f'{scratch_dir}\\page{str(i)}.png', 'PNG')\n",
    "    ocr_text = ''\n",
    "    for i in range(len(images)):\n",
    "\n",
    "        result = ocr.ocr(f'{scratch_dir}\\page{str(i)}.png', cls=True)\n",
    "        # check if result[0[ is None\n",
    "        if not result or not result[0]:\n",
    "            continue\n",
    "        for line in result[0]:\n",
    "            pdf_text = f'{pdf_text} {line[1][0]}'\n",
    "\n",
    "    ocr_df.at[index, 'paddleocr'] = pdf_text"
   ],
   "metadata": {
    "collapsed": false
   },
   "outputs": [],
   "execution_count": null
  },
  {
   "cell_type": "code",
   "source": "ocr_df.to_excel('ocr_df.xlsx')",
   "metadata": {
    "collapsed": false
   },
   "outputs": [],
   "execution_count": null
  },
  {
   "cell_type": "code",
   "source": [],
   "metadata": {
    "collapsed": false
   },
   "outputs": [],
   "execution_count": null
  }
 ],
 "metadata": {
  "kernelspec": {
   "display_name": "Python 3",
   "language": "python",
   "name": "python3"
  },
  "language_info": {
   "codemirror_mode": {
    "name": "ipython",
    "version": 2
   },
   "file_extension": ".py",
   "mimetype": "text/x-python",
   "name": "python",
   "nbconvert_exporter": "python",
   "pygments_lexer": "ipython2",
   "version": "2.7.6"
  }
 },
 "nbformat": 4,
 "nbformat_minor": 0
}
