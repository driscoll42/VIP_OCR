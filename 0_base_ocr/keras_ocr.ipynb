{
 "cells": [
  {
   "cell_type": "code",
   "metadata": {
    "collapsed": true
   },
   "source": [
    "from pdf2image import convert_from_path\n",
    "import os\n",
    "import pandas as pd\n",
    "import keras_ocr"
   ],
   "outputs": [],
   "execution_count": null
  },
  {
   "cell_type": "code",
   "source": [
    "ocr_df = pd.read_excel('ocr_df.xlsx', index_col=0)\n",
    "ocr_df['keras_ocr'] = ''\n",
    "ocr_df"
   ],
   "metadata": {
    "collapsed": false
   },
   "outputs": [],
   "execution_count": null
  },
  {
   "cell_type": "code",
   "source": [
    "for index, row in ocr_df.iterrows():\n",
    "    print(index)\n",
    "    directory = 'test_files'\n",
    "    scratch_dir = 'scratch_dir'\n",
    "    for filename in os.listdir(scratch_dir):\n",
    "        f = os.path.join(scratch_dir, filename)\n",
    "        os.remove(f)\n",
    "\n",
    "    pdf_text = ''\n",
    "    images = convert_from_path(f'''{directory}/{row['item_filename']}.pdf''')\n",
    "    for i in range(len(images)):\n",
    "        images[i].save(f'{scratch_dir}\\page{str(i)}.png', 'PNG')\n",
    "\n",
    "    for i in range(len(images)):\n",
    "\n",
    "        pipeline = keras_ocr.pipeline.Pipeline()\n",
    "\n",
    "        images = [keras_ocr.tools.read(f'{scratch_dir}\\page{str(i)}.png')]\n",
    "\n",
    "        prediction_groups = pipeline.recognize(images)\n",
    "\n",
    "        for text, box in prediction_groups[0]:\n",
    "            pdf_text = f'{pdf_text} {text}'\n",
    "\n",
    "    ocr_df.at[index, 'keras_ocr'] = pdf_text"
   ],
   "metadata": {
    "collapsed": false
   },
   "outputs": [],
   "execution_count": null
  },
  {
   "cell_type": "code",
   "source": [
    "ocr_df.to_excel('ocr_df.xlsx')"
   ],
   "metadata": {
    "collapsed": false
   },
   "outputs": [],
   "execution_count": null
  },
  {
   "cell_type": "code",
   "source": [],
   "metadata": {
    "collapsed": false
   },
   "outputs": [],
   "execution_count": null
  }
 ],
 "metadata": {
  "kernelspec": {
   "display_name": "Python 3",
   "language": "python",
   "name": "python3"
  },
  "language_info": {
   "codemirror_mode": {
    "name": "ipython",
    "version": 2
   },
   "file_extension": ".py",
   "mimetype": "text/x-python",
   "name": "python",
   "nbconvert_exporter": "python",
   "pygments_lexer": "ipython2",
   "version": "2.7.6"
  }
 },
 "nbformat": 4,
 "nbformat_minor": 0
}
