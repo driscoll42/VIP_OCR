{
 "cells": [
  {
   "cell_type": "code",
   "source": [
    "import pytesseract\n",
    "from pdf2image import convert_from_path\n",
    "import pandas as pd\n",
    "from surya.recognition import RecognitionPredictor\n",
    "from surya.detection import DetectionPredictor\n",
    "\n",
    "pytesseract.pytesseract.tesseract_cmd = r'C:\\Program Files\\Tesseract-OCR\\tesseract'"
   ],
   "metadata": {
    "collapsed": false
   },
   "outputs": [],
   "execution_count": null
  },
  {
   "metadata": {},
   "cell_type": "code",
   "source": [
    "langs = [\"en\"] # Replace with your languages or pass None (recommended to use None)\n",
    "recognition_predictor = RecognitionPredictor()\n",
    "detection_predictor = DetectionPredictor()\n",
    "\n",
    "image_list = []\n",
    "doc_list = []\n",
    "ocr_df = pd.read_excel('ocr_df.xlsx', index_col=0)\n",
    "for index, row in ocr_df.iterrows():\n",
    "    directory = 'test_files'\n",
    "    pdf_text = ''\n",
    "    images = convert_from_path(f'''{directory}/{row['item_filename']}.pdf''')\n",
    "    for i in range(len(images)):\n",
    "        image_list.append(images[i])\n",
    "        doc_list.append(index)\n",
    "\n",
    "langs = [[\"en\"] for i in range(len(image_list))]\n",
    "\n",
    "predictions = recognition_predictor(image_list, langs, detection_predictor,\n",
    "                                    recognition_batch_size=14,\n",
    "                                    detection_batch_size=14)\n",
    "\n",
    "pdf_text = [''] * len(image_list)\n",
    "nl = '\\n'\n",
    "for index, p in enumerate(predictions):\n",
    "    text_list = p.text_lines\n",
    "    for text in text_list:\n",
    "        if text.confidence > 0.7:\n",
    "            pdf_text[doc_list[index]] = (f'{pdf_text[doc_list[index]]}{nl}{text.text}')\n",
    "\n",
    "# save the text to the dataframe\n",
    "for index, text in enumerate(pdf_text):\n",
    "    ocr_df.at[index, 'surya'] = text\n",
    "\n",
    "ocr_df.to_excel('ocr_df.xlsx')\n"
   ],
   "outputs": [],
   "execution_count": null
  }
 ],
 "metadata": {
  "kernelspec": {
   "display_name": "Python 3",
   "language": "python",
   "name": "python3"
  },
  "language_info": {
   "codemirror_mode": {
    "name": "ipython",
    "version": 2
   },
   "file_extension": ".py",
   "mimetype": "text/x-python",
   "name": "python",
   "nbconvert_exporter": "python",
   "pygments_lexer": "ipython2",
   "version": "2.7.6"
  }
 },
 "nbformat": 4,
 "nbformat_minor": 0
}
