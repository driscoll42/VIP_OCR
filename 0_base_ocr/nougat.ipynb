{
 "cells": [
  {
   "metadata": {
    "jupyter": {
     "is_executing": true
    }
   },
   "cell_type": "code",
   "source": [
    "from transformers import NougatProcessor, VisionEncoderDecoderModel\n",
    "import torch\n",
    "import pandas as pd\n",
    "from pdf2image import convert_from_path\n",
    "from time import time \n",
    "\n",
    "processor = NougatProcessor.from_pretrained(\"facebook/nougat-base\")\n",
    "model = VisionEncoderDecoderModel.from_pretrained(\"facebook/nougat-base\")\n",
    "\n",
    "device = \"cuda\" if torch.cuda.is_available() else \"cpu\"\n",
    "model.to(device)\n",
    "# prepare PDF image for the model\n",
    "ocr_df = pd.read_excel('ocr_df.xlsx', index_col=0)\n",
    "\n",
    "start_time = time()\n",
    "for index, row in ocr_df.iterrows():\n",
    "    directory = 'test_files'\n",
    "    pdf_text = ''\n",
    "    images = convert_from_path(f'{directory}/{row[\"item_filename\"]}.pdf')\n",
    "    for image in images:\n",
    "        pixel_values = processor(image, return_tensors=\"pt\").pixel_values\n",
    "        \n",
    "        # generate transcription (here we only generate 30 tokens)\n",
    "        outputs = model.generate(\n",
    "            pixel_values.to(device),\n",
    "            min_length=1,\n",
    "            max_new_tokens=8000,\n",
    "            bad_words_ids=[[processor.tokenizer.unk_token_id]],\n",
    "        )\n",
    "        \n",
    "        sequence = processor.batch_decode(outputs, skip_special_tokens=True)[0]\n",
    "        pdf_text += processor.post_process_generation(sequence, fix_markdown=False)\n",
    "    print(index)\n",
    "    ocr_df.at[index, f'nougat'] = pdf_text\n",
    "\n",
    "print(time() - start_time)\n",
    "# Save to ocr_df excel\n",
    "ocr_df.to_excel('ocr_df.xlsx')"
   ],
   "id": "8d54b702770e3f32",
   "outputs": [],
   "execution_count": null
  },
  {
   "metadata": {},
   "cell_type": "code",
   "source": "",
   "id": "c4939d1b6f2e9c7",
   "outputs": [],
   "execution_count": null
  }
 ],
 "metadata": {
  "kernelspec": {
   "display_name": "Python 3",
   "language": "python",
   "name": "python3"
  },
  "language_info": {
   "codemirror_mode": {
    "name": "ipython",
    "version": 2
   },
   "file_extension": ".py",
   "mimetype": "text/x-python",
   "name": "python",
   "nbconvert_exporter": "python",
   "pygments_lexer": "ipython2",
   "version": "2.7.6"
  }
 },
 "nbformat": 4,
 "nbformat_minor": 5
}
