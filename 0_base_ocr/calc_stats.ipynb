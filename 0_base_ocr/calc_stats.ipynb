{
 "cells": [
  {
   "cell_type": "code",
   "metadata": {
    "collapsed": true
   },
   "source": [
    "import pandas as pd\n",
    "import numpy as np\n",
    "import Levenshtein as lev\n",
    "from collections import Counter\n",
    "from sklearn.feature_extraction.text import CountVectorizer\n",
    "from sklearn.metrics.pairwise import cosine_similarity\n",
    "\n",
    "from sklearn.feature_extraction.text import TfidfVectorizer"
   ],
   "outputs": [],
   "execution_count": null
  },
  {
   "cell_type": "code",
   "source": [
    "# https://towardsdatascience.com/overview-of-text-similarity-metrics-3397c4601f50\n",
    "# https://towardsdatascience.com/calculating-string-similarity-in-python-276e18a7d33a\n",
    "# https://www.geeksforgeeks.org/python-levenshtein-distance/\n",
    "# https://towardsdatascience.com/semantic-search-measuring-meaning-from-jaccard-to-bert-a5aca61fc325\n",
    "\n",
    "def get_jaccard_sim(str1, str2):\n",
    "    a = set(str1.split())\n",
    "    b = set(str2.split())\n",
    "    c = a.intersection(b)\n",
    "    return float(len(c)) / (len(a) + len(b) - len(c))\n",
    "\n",
    "\n",
    "def cosine_sim_vectors(vec1, vec2):\n",
    "    vec1 = vec1.reshape(1, -1)\n",
    "    vec2 = vec2.reshape(1, -1)\n",
    "    return cosine_similarity(vec1, vec2)[0][0]\n",
    "\n",
    "def get_cosine_sim(str1, str2):\n",
    "    str_list = list([str1, str2])\n",
    "    vectorizer = CountVectorizer().fit([str1])\n",
    "    vectors = vectorizer.transform(str_list)\n",
    "    # vectors = vectorizer.toarray()\n",
    "    return cosine_sim_vectors(vectors[0], vectors[1])"
   ],
   "metadata": {
    "collapsed": false
   },
   "outputs": [],
   "execution_count": null
  },
  {
   "cell_type": "code",
   "source": [
    "ocr_dfs = ['ocr_df_2023_retests.xlsx']\n",
    "\n",
    "comb_df = pd.DataFrame()\n",
    "\n",
    "for i, ocr_df in enumerate(ocr_dfs):\n",
    "    df = pd.read_excel(ocr_df)\n",
    "    df = df.drop(columns=['Unnamed: 0'])\n",
    "    if i >= 1:\n",
    "        df = df.drop(columns=['item_id', 'item_filename', 'Transcribed', 'Trans_len', 'Type', 'url'])\n",
    "    comb_df = pd.concat([comb_df, df], axis=1)\n",
    "comb_df = comb_df.replace(r'\\n', ' ', regex=True)\n",
    "comb_df"
   ],
   "metadata": {
    "collapsed": false
   },
   "outputs": [],
   "execution_count": null
  },
  {
   "cell_type": "code",
   "source": [
    "# TODO: vectorize this\n",
    "\n",
    "lev_df = pd.DataFrame()\n",
    "jac_df = pd.DataFrame()\n",
    "cos_df = pd.DataFrame()\n",
    "for index, row in comb_df.iterrows():\n",
    "    print(index)\n",
    "    if row['Transcribed'] != 0:\n",
    "        lev_df.loc[index, f'Type'] = row['Type']\n",
    "        lev_df.loc[index, f'Trans_len'] = row['Trans_len']\n",
    "        jac_df.loc[index, f'Type'] = row['Type']\n",
    "        jac_df.loc[index, f'Trans_len'] = row['Trans_len']\n",
    "        cos_df.loc[index, f'Type'] = row['Type']\n",
    "        cos_df.loc[index, f'Trans_len'] = row['Trans_len']\n",
    "        for col in comb_df.columns:\n",
    "            if col not in ['Transcribed', 'item_id', 'item_filename', 'Type', 'url', 'Trans_len']:\n",
    "                try:\n",
    "                    lev_df.loc[index, f'{col}_lev_ratio'] = lev.ratio(row['Transcribed'], row[col])\n",
    "                except:\n",
    "                    lev_df.loc[index, f'{col}_lev_ratio'] = 0\n",
    "\n",
    "                try:\n",
    "                    jac_df.loc[index, f'{col}_jac_dist'] = get_jaccard_sim(row['Transcribed'], row[col])\n",
    "                except:\n",
    "                    jac_df.loc[index, f'{col}_jac_dist'] = 0\n",
    "\n",
    "                try:\n",
    "                    cos_df.loc[index, f'{col}_cossim'] = get_cosine_sim(row['Transcribed'], row[col])\n",
    "                except:\n",
    "                    cos_df.loc[index, f'{col}_cossim'] = 0\n",
    "cos_df"
   ],
   "metadata": {
    "collapsed": false
   },
   "outputs": [],
   "execution_count": null
  },
  {
   "cell_type": "code",
   "source": [
    "def summarize_df(compare_df, type=''):\n",
    "    summary_df = pd.DataFrame()\n",
    "    for col in compare_df.columns:\n",
    "        if col not in ['Transcribed', 'item_id', 'item_filename', 'Type', 'url', 'Trans_len']:\n",
    "            # Overall\n",
    "            summary_df.loc[0, f'{col}'] = np.average(a=compare_df[col], weights=compare_df['Trans_len'])\n",
    "            # Handwritten\n",
    "            summary_df.loc[1, f'{col}'] = np.average(a=compare_df[(compare_df['Type'] == 'H')  | (compare_df['Type'] == 'T/H')][col], weights=compare_df[(compare_df['Type'] == 'H') | (compare_df['Type'] == 'T/H')]['Trans_len'])\n",
    "            # Typed\n",
    "            summary_df.loc[2, f'{col}'] = np.average(a=compare_df[(compare_df['Type'] == 'T')  | (compare_df['Type'] == 'T/H')][col], weights=compare_df[(compare_df['Type'] == 'T') | (compare_df['Type'] == 'T/H')]['Trans_len'])\n",
    "    summary_df = summary_df.transpose()\n",
    "    summary_df.columns = [f'{type}_Overall', f'{type}_Handwritten', f'{type}_Typed']\n",
    "    return summary_df\n",
    "cos_sum_df = summarize_df(cos_df, 'cos')\n",
    "jac_sum_df = summarize_df(jac_df, 'jac')\n",
    "lev_sum_df = summarize_df(lev_df, 'lev')\n",
    "\n",
    "summary_df = pd.concat([cos_sum_df, jac_sum_df, lev_sum_df], ignore_index=True, axis=1)"
   ],
   "metadata": {
    "collapsed": false
   },
   "outputs": [],
   "execution_count": null
  },
  {
   "cell_type": "code",
   "source": [
    "lev_sum_df_test = lev_sum_df.reset_index()\n",
    "lev_sum_df_test.drop(columns=['index'], inplace=True)\n",
    "jac_sum_df_test = jac_sum_df.reset_index()\n",
    "jac_sum_df_test.drop(columns=['index'], inplace=True)\n",
    "cos_sum_df_test = cos_sum_df.reset_index()\n",
    "summary_df = pd.concat([cos_sum_df_test, lev_sum_df_test, jac_sum_df_test], axis=1)\n",
    "summary_df"
   ],
   "metadata": {
    "collapsed": false
   },
   "outputs": [],
   "execution_count": null
  },
  {
   "cell_type": "code",
   "source": [
    "summary_df.to_excel('ocr_test_summary_df.xlsx')"
   ],
   "metadata": {
    "collapsed": false
   },
   "outputs": [],
   "execution_count": null
  },
  {
   "cell_type": "code",
   "source": [],
   "metadata": {
    "collapsed": false
   },
   "outputs": [],
   "execution_count": null
  }
 ],
 "metadata": {
  "kernelspec": {
   "display_name": "Python 3",
   "language": "python",
   "name": "python3"
  },
  "language_info": {
   "codemirror_mode": {
    "name": "ipython",
    "version": 2
   },
   "file_extension": ".py",
   "mimetype": "text/x-python",
   "name": "python",
   "nbconvert_exporter": "python",
   "pygments_lexer": "ipython2",
   "version": "2.7.6"
  }
 },
 "nbformat": 4,
 "nbformat_minor": 0
}
