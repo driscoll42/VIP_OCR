{
 "cells": [
  {
   "cell_type": "code",
   "metadata": {
    "collapsed": true
   },
   "source": [
    "import io\n",
    "import time\n",
    "\n",
    "from azure.cognitiveservices.vision.computervision import ComputerVisionClient\n",
    "from azure.cognitiveservices.vision.computervision.models import ComputerVisionOcrErrorException\n",
    "from msrest.authentication import CognitiveServicesCredentials\n",
    "from PIL import Image\n",
    "\n",
    "\n",
    "from pdf2image import convert_from_path\n",
    "import os\n",
    "import pandas as pd\n",
    "\n",
    "\n",
    "\n",
    "def perform_ocr_(\n",
    "        stream,\n",
    "        endpoint=\"https://vipocrinstance1.cognitiveservices.azure.com/\",\n",
    "        subscription_key='PLACEHOLDER'  # Replace with your Azure subscription key,\n",
    "):\n",
    "    credentials = CognitiveServicesCredentials(subscription_key)\n",
    "    client = ComputerVisionClient(endpoint, credentials)\n",
    "\n",
    "    read_response = client.read_in_stream(stream, language='en', raw=True)\n",
    "    if not read_response:\n",
    "        raise Exception('Could not send OCR request to Azure')\n",
    "\n",
    "    operation_id = read_response.headers[\"Operation-Location\"].split(\"/\")[-1]\n",
    "\n",
    "    while True:\n",
    "        results = client.get_read_result(operation_id)\n",
    "        if results.status not in ['notStarted', 'running']:\n",
    "            break\n",
    "        time.sleep(1)\n",
    "\n",
    "    for text_result in results.analyze_result.read_results:\n",
    "        # width = text_result.width\n",
    "        # height = text_result.height\n",
    "        page = \"\"\n",
    "        for line in text_result.lines:\n",
    "            line_text = \"\"\n",
    "            for word in line.words:\n",
    "                line_text = line_text + \" \" + word.text\n",
    "            line_text = line_text.strip()\n",
    "            line_text = line_text + \"\\n\"\n",
    "            page = page + line_text\n",
    "        yield page\n",
    "\n",
    "\n",
    "def image_to_byte_stream(image):\n",
    "    with io.BytesIO() as stream:\n",
    "        image.save(stream, format='PNG')\n",
    "        return io.BytesIO(stream.getvalue())\n",
    "\n",
    "\n",
    "def perform_ocr(data):\n",
    "    \"\"\"Feed it PDF, JPG, PNG and you will get OCR data\n",
    "    Args:\n",
    "        data: can be a filepath, PIL.Image, bytes, or a binary datastream\n",
    "    Returns:\n",
    "        [[(text, top, left, width, height), ...], [...] ... ] - you will get list of pages, each page contains list of words with boxes.\n",
    "    \"\"\"\n",
    "    try:\n",
    "        stream = None\n",
    "\n",
    "        if isinstance(data, str):\n",
    "            stream = open(data, 'rb')\n",
    "        elif isinstance(data, bytes):\n",
    "            stream = io.BytesIO(data)\n",
    "        elif isinstance(data, Image.Image):\n",
    "            stream = image_to_byte_stream(data)\n",
    "        elif hasattr(data, 'read'):\n",
    "            stream = data\n",
    "\n",
    "        if not stream:\n",
    "            raise Exception(f'Could not open f{data}')\n",
    "\n",
    "        return list(perform_ocr_(stream))\n",
    "    except ComputerVisionOcrErrorException:\n",
    "        return [[]]\n",
    "\n",
    "\n"
   ],
   "outputs": [],
   "execution_count": null
  },
  {
   "cell_type": "code",
   "source": [
    "ocr_df = pd.read_excel('ocr_df_azure_Test.xlsx', index_col=0)\n",
    "ocr_df['azure_png'] = ''\n",
    "ocr_df"
   ],
   "metadata": {
    "collapsed": false
   },
   "outputs": [],
   "execution_count": null
  },
  {
   "cell_type": "code",
   "source": [
    "# Note, free tier is limited to 20 calls per minute\n",
    "call_cnt = 0\n",
    "short_cnt = 2\n",
    "while short_cnt > 0:\n",
    "    for index, row in ocr_df.iterrows():\n",
    "        if call_cnt >= 20: # clearly there's a more efficient way to do this, but for the moment it works\n",
    "            time.sleep(60)\n",
    "            call_cnt = 0\n",
    "        if len(str(row['azure_png'])) < 5:\n",
    "            print(index)\n",
    "            short_cnt -= 1\n",
    "            directory = 'test_files'\n",
    "            scratch_dir = 'scratch_dir_2'\n",
    "            for filename in os.listdir(scratch_dir):\n",
    "                f = os.path.join(scratch_dir, filename)\n",
    "                os.remove(f)\n",
    "\n",
    "            pdf_text = ''\n",
    "            images = convert_from_path(f'''{directory}/{row['item_filename']}.pdf''')\n",
    "            for i in range(len(images)):\n",
    "                time.sleep(1)\n",
    "                ocr_text = perform_ocr(images[i])\n",
    "                call_cnt += 1\n",
    "                for line in ocr_text:\n",
    "                    if len(line) > 0:\n",
    "                        pdf_text = pdf_text + \"\\n\" + str(line)\n",
    "            ocr_df.at[index, 'azure_png'] = pdf_text\n",
    "            if len(pdf_text) < 5:\n",
    "                short_cnt += 1\n",
    "                print(index, 'short!')\n",
    "    if short_cnt > 0:\n",
    "        time.sleep(300)\n",
    "    ocr_df.to_excel('ocr_df_azure_Test.xlsx')\n",
    "\n"
   ],
   "metadata": {
    "collapsed": false
   },
   "outputs": [],
   "execution_count": null
  },
  {
   "cell_type": "code",
   "source": [
    "ocr_df = pd.read_excel('ocr_df_azure_Test.xlsx', index_col=0)\n",
    "ocr_df['azure_pdf'] = ''\n",
    "ocr_df"
   ],
   "metadata": {
    "collapsed": false
   },
   "outputs": [],
   "execution_count": null
  },
  {
   "cell_type": "code",
   "source": [
    "# Note, free tier is limited to 20 calls per minute\n",
    "call_cnt = 0\n",
    "for index, row in ocr_df.iterrows():\n",
    "    if call_cnt >= 20: # clearly there's a more efficient way to do this, but for the moment it works\n",
    "        time.sleep(60)\n",
    "        call_cnt = 0\n",
    "\n",
    "    if len(ocr_df.at[index, 'azure_pdf']) == 0:\n",
    "        directory = 'test_files'\n",
    "        scratch_dir = 'scratch_dir_2'\n",
    "        pdf_text = ''\n",
    "        time.sleep(5)\n",
    "\n",
    "        ocr_text = perform_ocr(f'''{directory}/{row['item_filename']}.pdf''')\n",
    "        for page in ocr_text:\n",
    "            if len(page) > 0:\n",
    "                pdf_text = pdf_text + \"\\n\" + str(page)\n",
    "        ocr_df.at[index, 'azure_pdf'] = pdf_text\n",
    "        call_cnt += 1\n",
    "        print(index, len(ocr_text), len(pdf_text))"
   ],
   "metadata": {
    "collapsed": false
   },
   "outputs": [],
   "execution_count": null
  },
  {
   "cell_type": "code",
   "source": [
    "ocr_df.at[0, 'azure_pdf']"
   ],
   "metadata": {
    "collapsed": false
   },
   "outputs": [],
   "execution_count": null
  },
  {
   "cell_type": "code",
   "source": [
    "ocr_df.to_excel('ocr_df_azure_Test.xlsx')"
   ],
   "metadata": {
    "collapsed": false
   },
   "outputs": [],
   "execution_count": null
  },
  {
   "cell_type": "code",
   "source": [],
   "metadata": {
    "collapsed": false
   },
   "outputs": [],
   "execution_count": null
  }
 ],
 "metadata": {
  "kernelspec": {
   "display_name": "Python 3",
   "language": "python",
   "name": "python3"
  },
  "language_info": {
   "codemirror_mode": {
    "name": "ipython",
    "version": 2
   },
   "file_extension": ".py",
   "mimetype": "text/x-python",
   "name": "python",
   "nbconvert_exporter": "python",
   "pygments_lexer": "ipython2",
   "version": "2.7.6"
  }
 },
 "nbformat": 4,
 "nbformat_minor": 0
}
