{
 "cells": [
  {
   "cell_type": "code",
   "source": [
    "from pdf2image import convert_from_path\n",
    "import os\n",
    "import pandas as pd\n",
    "\n",
    "from craft_hw_ocr import OCR\n",
    "import torch\n",
    "import time\n",
    "from craft_text_detector import Craft\n",
    "import cv2\n",
    "\n",
    "# need to install protobuf==3.20.3\n",
    "# https://github.com/protocolbuffers/protobuf/tree/main/python#installation"
   ],
   "metadata": {
    "collapsed": false
   },
   "outputs": [],
   "execution_count": null
  },
  {
   "cell_type": "code",
   "source": [
    "def get_trocr_text(image_file, processor, model, craft):\n",
    "    img = cv2.imread(image_file)\n",
    "\n",
    "    # do the below step if your image is tilted by some angle else ignore\n",
    "    # img = OCR.process_image(img)\n",
    "\n",
    "    results = craft.detect_text(img)\n",
    "\n",
    "    bboxes, text = OCR.recoginition(img, results, processor, model)\n",
    "\n",
    "    # pilImage = OCR.visualize(img, results)\n",
    "\n",
    "    return text"
   ],
   "metadata": {
    "collapsed": false
   },
   "outputs": [],
   "execution_count": null
  },
  {
   "cell_type": "code",
   "source": [
    "models = [\n",
    "\"microsoft/trocr-small-printed\",\n",
    "\"microsoft/trocr-base-printed\",\n",
    "\"microsoft/trocr-large-printed\",\n",
    "\"microsoft/trocr-small-handwritten\",\n",
    "\"microsoft/trocr-base-handwritten\",\n",
    "\"microsoft/trocr-large-handwritten\",\n",
    "\"microsoft/trocr-small-stage1\",\n",
    "\"microsoft/trocr-base-stage1\",\n",
    "\"microsoft/trocr-large-str\",\n",
    "\"microsoft/trocr-base-str\",\n",
    "\"microsoft/trocr-large-stage1\",\n",
    "\"DunnBC22/trocr-base-printed_captcha_ocr\",\n",
    "\"dvsth/LEGIT-TrOCR-MT\"]"
   ],
   "metadata": {
    "collapsed": false
   },
   "outputs": [],
   "execution_count": null
  },
  {
   "cell_type": "code",
   "source": [
    "ocr_df = pd.read_excel('ocr_df_2023_retests.xlsx', index_col=0)\n",
    "\n",
    "for model_name in models:\n",
    "    col_name = f'trocr-{model_name}'\n",
    "    ocr_df[col_name] = ''\n",
    "\n",
    "    start_time = time.time()\n",
    "    # Load Models once and pass it to the function to avoid loading models again and again\n",
    "    processor, model, craft = OCR.load_models(trocr_model=model_name)\n",
    "    torch.cuda.empty_cache()\n",
    "\n",
    "    for index, row in ocr_df.iterrows():\n",
    "        directory = 'test_files'\n",
    "\n",
    "        scratch_dir = 'scratch_dir'\n",
    "        for filename in os.listdir(scratch_dir):\n",
    "            f = os.path.join(scratch_dir, filename)\n",
    "            os.remove(f)\n",
    "\n",
    "        pdf_text = ''\n",
    "        images = convert_from_path(f'''{directory}/{row['item_filename']}.pdf''', )\n",
    "        for i in range(len(images)):\n",
    "            images[i].save(f'{scratch_dir}\\page{str(i)}.png', 'PNG')\n",
    "\n",
    "        for i in range(len(images)):\n",
    "            generated_text = get_trocr_text(f'{scratch_dir}\\page{str(i)}.png', processor, model, craft)\n",
    "            pdf_text = pdf_text + \"\\n\" + generated_text\n",
    "\n",
    "        ocr_df.at[index, col_name] = pdf_text\n",
    "        print(index, ':', time.time() - start_time)\n",
    "\n",
    "    craft.unload_craftnet_model()\n",
    "    craft.unload_refinenet_model()\n",
    "    torch.cuda.empty_cache()\n",
    "    print(model_name, start_time - time.time())\n",
    "    ocr_df.to_excel(f'ocr_df_2023_retests_temp_3.xlsx')"
   ],
   "metadata": {
    "collapsed": false
   },
   "outputs": [],
   "execution_count": null
  },
  {
   "cell_type": "markdown",
   "source": [],
   "metadata": {
    "collapsed": false
   }
  }
 ],
 "metadata": {
  "kernelspec": {
   "display_name": "Python 3",
   "language": "python",
   "name": "python3"
  },
  "language_info": {
   "codemirror_mode": {
    "name": "ipython",
    "version": 2
   },
   "file_extension": ".py",
   "mimetype": "text/x-python",
   "name": "python",
   "nbconvert_exporter": "python",
   "pygments_lexer": "ipython2",
   "version": "2.7.6"
  }
 },
 "nbformat": 4,
 "nbformat_minor": 0
}
