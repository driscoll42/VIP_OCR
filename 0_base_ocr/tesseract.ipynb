{
 "cells": [
  {
   "cell_type": "code",
   "source": [
    "import pytesseract\n",
    "from pdf2image import convert_from_path\n",
    "import pandas as pd\n",
    "import time\n",
    "\n",
    "pytesseract.pytesseract.tesseract_cmd = r'C:\\Program Files\\Tesseract-OCR\\tesseract'\n",
    "pytesseract.get_tesseract_version()"
   ],
   "metadata": {
    "collapsed": false
   },
   "outputs": [],
   "execution_count": null
  },
  {
   "cell_type": "code",
   "source": [
    "ocr_df = pd.read_excel('ocr_df.xlsx', index_col=0)\n",
    "ocr_df['tesseract'] = ''"
   ],
   "metadata": {
    "collapsed": false
   },
   "outputs": [],
   "execution_count": null
  },
  {
   "cell_type": "code",
   "source": [
    "start_time = time.time()\n",
    "for index, row in ocr_df.iterrows():\n",
    "    directory = 'test_files'\n",
    "    pdf_text = ''\n",
    "    images = convert_from_path(f'''{directory}/{row['item_filename']}.pdf''')\n",
    "    for i in range(len(images)):\n",
    "        pdf_text = pdf_text + pytesseract.image_to_string(images[i])\n",
    "    ocr_df.at[index, 'tesseract_orig'] = pdf_text\n",
    "    print(index)\n",
    "\n",
    "print(time.time() - start_time)\n",
    "ocr_df\n",
    "ocr_df.to_excel('ocr_df.xlsx')\n"
   ],
   "metadata": {
    "collapsed": false
   },
   "outputs": [],
   "execution_count": null
  },
  {
   "cell_type": "code",
   "source": [
    "ocr_df.to_excel('ocr_df.xlsx')"
   ],
   "metadata": {
    "collapsed": false
   },
   "outputs": [],
   "execution_count": null
  }
 ],
 "metadata": {
  "kernelspec": {
   "display_name": "Python 3",
   "language": "python",
   "name": "python3"
  },
  "language_info": {
   "codemirror_mode": {
    "name": "ipython",
    "version": 2
   },
   "file_extension": ".py",
   "mimetype": "text/x-python",
   "name": "python",
   "nbconvert_exporter": "python",
   "pygments_lexer": "ipython2",
   "version": "2.7.6"
  }
 },
 "nbformat": 4,
 "nbformat_minor": 0
}
